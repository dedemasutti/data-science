{
  "nbformat": 4,
  "nbformat_minor": 0,
  "metadata": {
    "colab": {
      "name": "Métodos em lista básico.ipynb",
      "provenance": [],
      "authorship_tag": "ABX9TyMbOhlPhTbz/ow2pvZX5vfd",
      "include_colab_link": true
    },
    "kernelspec": {
      "name": "python3",
      "display_name": "Python 3"
    },
    "language_info": {
      "name": "python"
    }
  },
  "cells": [
    {
      "cell_type": "markdown",
      "metadata": {
        "id": "view-in-github",
        "colab_type": "text"
      },
      "source": [
        "<a href=\"https://colab.research.google.com/github/dedemasutti/data-science/blob/main/M%C3%A9todos_em_lista_b%C3%A1sico.ipynb\" target=\"_parent\"><img src=\"https://colab.research.google.com/assets/colab-badge.svg\" alt=\"Open In Colab\"/></a>"
      ]
    },
    {
      "cell_type": "markdown",
      "source": [
        "## **MÉTODOS EM LISTA - BÁSICO**"
      ],
      "metadata": {
        "id": "7xXXNT84HSaW"
      }
    },
    {
      "cell_type": "code",
      "source": [
        "#####################\n",
        "####LISTA INICIAL####\n",
        "#####################\n",
        "Acessorios = ['Rodas de liga', 'Travas elétricas', 'Piloto automático', 'Bancos de couro', 'Ar condicionado', 'Sensor de estacionamento', 'Sensor crepuscular', 'Sensor de chuva']\n",
        "Acessorios"
      ],
      "metadata": {
        "colab": {
          "base_uri": "https://localhost:8080/"
        },
        "id": "7_BW5VmxHZ9M",
        "outputId": "ef3f8f7e-bcf9-49c2-88ce-30bc0ba292bb"
      },
      "execution_count": 1,
      "outputs": [
        {
          "output_type": "execute_result",
          "data": {
            "text/plain": [
              "['Rodas de liga',\n",
              " 'Travas elétricas',\n",
              " 'Piloto automático',\n",
              " 'Bancos de couro',\n",
              " 'Ar condicionado',\n",
              " 'Sensor de estacionamento',\n",
              " 'Sensor crepuscular',\n",
              " 'Sensor de chuva']"
            ]
          },
          "metadata": {},
          "execution_count": 1
        }
      ]
    },
    {
      "cell_type": "markdown",
      "source": [
        "## **SORT()** "
      ],
      "metadata": {
        "id": "tNWOblDUHwrH"
      }
    },
    {
      "cell_type": "code",
      "source": [
        "# O método sort() funciona por meio da sintaxe lista.sort(),  Esse método ordena a lista usando a lógica inserida na lista , por exemplo,em ordem alfabética.\n",
        "Acessorios.sort()\n",
        "Acessorios"
      ],
      "metadata": {
        "colab": {
          "base_uri": "https://localhost:8080/"
        },
        "id": "J55xzWdJH09s",
        "outputId": "00d619cc-d3c4-44c1-c550-3b5c1f5b520a"
      },
      "execution_count": 2,
      "outputs": [
        {
          "output_type": "execute_result",
          "data": {
            "text/plain": [
              "['Ar condicionado',\n",
              " 'Bancos de couro',\n",
              " 'Piloto automático',\n",
              " 'Rodas de liga',\n",
              " 'Sensor crepuscular',\n",
              " 'Sensor de chuva',\n",
              " 'Sensor de estacionamento',\n",
              " 'Travas elétricas']"
            ]
          },
          "metadata": {},
          "execution_count": 2
        }
      ]
    },
    {
      "cell_type": "markdown",
      "source": [
        "## **APPEND()** "
      ],
      "metadata": {
        "id": "XIbRl7ToHqqX"
      }
    },
    {
      "cell_type": "code",
      "source": [
        "# O método append, que significa acrescentar, inclui um elemento ao final da lista que passamos\n",
        "Acessorios.append('camera de estacionamento')\n",
        "Acessorios"
      ],
      "metadata": {
        "colab": {
          "base_uri": "https://localhost:8080/"
        },
        "id": "G76JufRyIcI_",
        "outputId": "092b6e47-27e4-419d-d783-39f996c7bd8b"
      },
      "execution_count": 3,
      "outputs": [
        {
          "output_type": "execute_result",
          "data": {
            "text/plain": [
              "['Ar condicionado',\n",
              " 'Bancos de couro',\n",
              " 'Piloto automático',\n",
              " 'Rodas de liga',\n",
              " 'Sensor crepuscular',\n",
              " 'Sensor de chuva',\n",
              " 'Sensor de estacionamento',\n",
              " 'Travas elétricas',\n",
              " 'camera de estacionamento']"
            ]
          },
          "metadata": {},
          "execution_count": 3
        }
      ]
    },
    {
      "cell_type": "markdown",
      "source": [
        "## **POP()** "
      ],
      "metadata": {
        "id": "yLWzu7bqJVXm"
      }
    },
    {
      "cell_type": "code",
      "source": [
        "# Este método exclui o último elemento da lista\n",
        "Acessorios.pop()\n",
        "Acessorios"
      ],
      "metadata": {
        "colab": {
          "base_uri": "https://localhost:8080/"
        },
        "id": "72CwszdNJHtp",
        "outputId": "ecf8e34b-9849-4d51-f5dc-bbd9bce05221"
      },
      "execution_count": 4,
      "outputs": [
        {
          "output_type": "execute_result",
          "data": {
            "text/plain": [
              "['Ar condicionado',\n",
              " 'Bancos de couro',\n",
              " 'Piloto automático',\n",
              " 'Rodas de liga',\n",
              " 'Sensor crepuscular',\n",
              " 'Sensor de chuva',\n",
              " 'Sensor de estacionamento',\n",
              " 'Travas elétricas']"
            ]
          },
          "metadata": {},
          "execution_count": 4
        }
      ]
    },
    {
      "cell_type": "code",
      "source": [
        "# Podemos remover um elemento especifíco na lista, como visto no exemplo abaixo:\n",
        "Acessorios.pop(4)\n",
        "Acessorios"
      ],
      "metadata": {
        "colab": {
          "base_uri": "https://localhost:8080/"
        },
        "id": "W_X7SiRqKhy9",
        "outputId": "20d18977-8e38-489a-c606-70700ca2b9f5"
      },
      "execution_count": 5,
      "outputs": [
        {
          "output_type": "execute_result",
          "data": {
            "text/plain": [
              "['Ar condicionado',\n",
              " 'Bancos de couro',\n",
              " 'Piloto automático',\n",
              " 'Rodas de liga',\n",
              " 'Sensor de chuva',\n",
              " 'Sensor de estacionamento',\n",
              " 'Travas elétricas']"
            ]
          },
          "metadata": {},
          "execution_count": 5
        }
      ]
    },
    {
      "cell_type": "markdown",
      "source": [
        "## **COPY()**"
      ],
      "metadata": {
        "id": "PAh6G07dKZcB"
      }
    },
    {
      "cell_type": "code",
      "source": [
        "# O método copy() copia uma lista, só alteramos o nome da lista. Podemos manipular a lista inicial, com outro nome, e ainda assim mante-la.\n",
        "novos_acessorios = Acessorios.copy()\n",
        "novos_acessorios"
      ],
      "metadata": {
        "colab": {
          "base_uri": "https://localhost:8080/"
        },
        "id": "YvpWeJ1-KW4q",
        "outputId": "4ba329d0-7bcd-4348-b514-37629f2098a9"
      },
      "execution_count": 6,
      "outputs": [
        {
          "output_type": "execute_result",
          "data": {
            "text/plain": [
              "['Ar condicionado',\n",
              " 'Bancos de couro',\n",
              " 'Piloto automático',\n",
              " 'Rodas de liga',\n",
              " 'Sensor de chuva',\n",
              " 'Sensor de estacionamento',\n",
              " 'Travas elétricas']"
            ]
          },
          "metadata": {},
          "execution_count": 6
        }
      ]
    },
    {
      "cell_type": "code",
      "source": [
        "# A partir daí manipularmos mudanças mais radicais e ainda manteremos a lista Acessorios com os elementos iniciais."
      ],
      "metadata": {
        "id": "hmGoSdNuLl2q"
      },
      "execution_count": null,
      "outputs": []
    }
  ]
}
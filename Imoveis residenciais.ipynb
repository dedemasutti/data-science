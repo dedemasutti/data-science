{
 "cells": [
  {
   "cell_type": "markdown",
   "id": "ccd1202f",
   "metadata": {},
   "source": [
    "# Relatorio de analise III"
   ]
  },
  {
   "cell_type": "markdown",
   "id": "80df0709",
   "metadata": {},
   "source": [
    "# imoveis residenciais"
   ]
  },
  {
   "cell_type": "code",
   "execution_count": 1,
   "id": "bc2ece75",
   "metadata": {},
   "outputs": [],
   "source": [
    "import pandas as pd"
   ]
  },
  {
   "cell_type": "code",
   "execution_count": 6,
   "id": "90b561fd",
   "metadata": {},
   "outputs": [],
   "source": [
    "dados = pd.read_csv('dados/aluguel.csv', sep = ';')\n"
   ]
  },
  {
   "cell_type": "code",
   "execution_count": null,
   "id": "7f6edee0",
   "metadata": {},
   "outputs": [],
   "source": [
    "dados.head(11)"
   ]
  },
  {
   "cell_type": "code",
   "execution_count": null,
   "id": "71c8683e",
   "metadata": {},
   "outputs": [],
   "source": [
    "list(dados['Tipo'].drop_duplicates())"
   ]
  },
  {
   "cell_type": "code",
   "execution_count": null,
   "id": "f2459d7f",
   "metadata": {},
   "outputs": [],
   "source": [
    "residencial = ['Quitinete',\n",
    "'Casa',\n",
    "'Conjunto Comercial/Sala',\n",
    "'Apartamento',\n",
    "'Casa de Condomínio',\n",
    "'Prédio Inteiro',\n",
    "'Flat',\n",
    "'Loja/Salão',\n",
    "'Galpão/Depósito/Armazém',\n",
    "'Casa Comercial',\n",
    "'Casa de Vila',\n",
    "'Terreno Padrão',\n",
    "'Box/Garagem',\n",
    "'Loft'\n",
    "'Loja Shopping/ Ct Comercial',\n",
    "'Chácara',\n",
    "'Loteamento/Condomínio',\n",
    "'Sítio',\n",
    "'Pousada/Chalé',\n",
    "'Studio',\n",
    "'Hotel',\n",
    "'Indústria']"
   ]
  },
  {
   "cell_type": "code",
   "execution_count": null,
   "id": "f041fe38",
   "metadata": {},
   "outputs": [],
   "source": [
    "residencial = ['Casa', 'Apartamento', 'Quitinete','Casa de Condomínio','Casa de Vila']"
   ]
  },
  {
   "cell_type": "code",
   "execution_count": null,
   "id": "a6d09a85",
   "metadata": {},
   "outputs": [],
   "source": [
    "dados['Tipo'].isin(residencial).head(10)"
   ]
  },
  {
   "cell_type": "code",
   "execution_count": null,
   "id": "2c12fb61",
   "metadata": {},
   "outputs": [],
   "source": [
    "selecao = dados['Tipo'].isin(residencial)"
   ]
  },
  {
   "cell_type": "code",
   "execution_count": null,
   "id": "99f54486",
   "metadata": {},
   "outputs": [],
   "source": [
    "dados_residencial = dados[selecao]"
   ]
  },
  {
   "cell_type": "code",
   "execution_count": null,
   "id": "6bea98ed",
   "metadata": {},
   "outputs": [],
   "source": [
    "dados_residencial"
   ]
  },
  {
   "cell_type": "code",
   "execution_count": null,
   "id": "68bd9a6a",
   "metadata": {},
   "outputs": [],
   "source": [
    "list(dados_residencial['Tipo'].drop_duplicates())"
   ]
  },
  {
   "cell_type": "code",
   "execution_count": null,
   "id": "0e951063",
   "metadata": {},
   "outputs": [],
   "source": [
    "dados_residencial.shape[0] "
   ]
  },
  {
   "cell_type": "code",
   "execution_count": null,
   "id": "d48ecd1f",
   "metadata": {},
   "outputs": [],
   "source": [
    "dados_residencial.index = range(dados_residencial.shape[0])"
   ]
  },
  {
   "cell_type": "code",
   "execution_count": null,
   "id": "087fd83e",
   "metadata": {},
   "outputs": [],
   "source": [
    "dados_residencial"
   ]
  },
  {
   "cell_type": "code",
   "execution_count": null,
   "id": "9384d3ff",
   "metadata": {},
   "outputs": [],
   "source": [
    "import pandas as pd\n",
    "\n",
    "numeros = [i for i in range(11)]\n",
    "letras = [chr(i + 65) for i in range(11)]\n",
    "nome_coluna = ['N']\n",
    "\n",
    "df = pd.DataFrame(data = numeros, index = letras, columns = nome_coluna)\n",
    "\n"
   ]
  },
  {
   "cell_type": "code",
   "execution_count": null,
   "id": "1dacc1b3",
   "metadata": {},
   "outputs": [],
   "source": [
    "selecao = df['N'].isin([i for i in range(11) if i % 2 == 0])\n",
    "df = df[selecao]\n",
    "df"
   ]
  },
  {
   "cell_type": "markdown",
   "id": "155296da",
   "metadata": {},
   "source": [
    "## Exportando bases de dados\n"
   ]
  },
  {
   "cell_type": "code",
   "execution_count": null,
   "id": "55fb4472",
   "metadata": {},
   "outputs": [],
   "source": [
    "dados_residencial.to_csv('dados/aluguel_residencial.csv', sep=';', index = False)"
   ]
  },
  {
   "cell_type": "code",
   "execution_count": null,
   "id": "d464e5c5",
   "metadata": {},
   "outputs": [],
   "source": [
    "dados_residencial_2 = pd.read_csv('dados/aluguel_residencial.csv', sep =';')"
   ]
  },
  {
   "cell_type": "code",
   "execution_count": null,
   "id": "c12b3eba",
   "metadata": {},
   "outputs": [],
   "source": [
    "dados_residencial_2"
   ]
  },
  {
   "cell_type": "code",
   "execution_count": null,
   "id": "6c82cbd7",
   "metadata": {},
   "outputs": [],
   "source": []
  },
  {
   "cell_type": "code",
   "execution_count": null,
   "id": "6cc90f44",
   "metadata": {},
   "outputs": [],
   "source": []
  },
  {
   "cell_type": "code",
   "execution_count": null,
   "id": "edb13ea5",
   "metadata": {},
   "outputs": [],
   "source": []
  },
  {
   "cell_type": "code",
   "execution_count": null,
   "id": "cd0629fe",
   "metadata": {
    "scrolled": false
   },
   "outputs": [],
   "source": []
  },
  {
   "cell_type": "code",
   "execution_count": null,
   "id": "2a7e10b3",
   "metadata": {},
   "outputs": [],
   "source": []
  },
  {
   "cell_type": "code",
   "execution_count": null,
   "id": "ecb6c979",
   "metadata": {},
   "outputs": [],
   "source": []
  }
 ],
 "metadata": {
  "kernelspec": {
   "display_name": "Python 3 (ipykernel)",
   "language": "python",
   "name": "python3"
  },
  "language_info": {
   "codemirror_mode": {
    "name": "ipython",
    "version": 3
   },
   "file_extension": ".py",
   "mimetype": "text/x-python",
   "name": "python",
   "nbconvert_exporter": "python",
   "pygments_lexer": "ipython3",
   "version": "3.9.7"
  }
 },
 "nbformat": 4,
 "nbformat_minor": 5
}

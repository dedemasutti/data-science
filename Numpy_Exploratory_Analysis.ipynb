{
  "nbformat": 4,
  "nbformat_minor": 0,
  "metadata": {
    "colab": {
      "provenance": [],
      "authorship_tag": "ABX9TyOlryEe02VknWDcPWPgXOdW",
      "include_colab_link": true
    },
    "kernelspec": {
      "name": "python3",
      "display_name": "Python 3"
    },
    "language_info": {
      "name": "python"
    }
  },
  "cells": [
    {
      "cell_type": "markdown",
      "metadata": {
        "id": "view-in-github",
        "colab_type": "text"
      },
      "source": [
        "<a href=\"https://colab.research.google.com/github/dedemasutti/data-science/blob/main/Numpy_Exploratory_Analysis.ipynb\" target=\"_parent\"><img src=\"https://colab.research.google.com/assets/colab-badge.svg\" alt=\"Open In Colab\"/></a>"
      ]
    },
    {
      "cell_type": "code",
      "source": [
        "import numpy as np"
      ],
      "metadata": {
        "id": "At68A0SCWXwE"
      },
      "execution_count": 6,
      "outputs": []
    },
    {
      "cell_type": "code",
      "source": [
        "import numpy as np\n",
        "\n",
        "# Generate a random array\n",
        "data = np.random.randn(500)"
      ],
      "metadata": {
        "id": "QS2l6p0uTiQh"
      },
      "execution_count": 7,
      "outputs": []
    },
    {
      "cell_type": "code",
      "source": [
        "# Calculate basic statistics\n",
        "mean = np.mean(data)\n",
        "median = np.median(data)\n",
        "std_dev = np.std(data)\n",
        "min_value = np.min(data)\n",
        "max_value = np.max(data)\n",
        "\n",
        "print(\"Mean:\", mean)\n",
        "print(\"Median:\", median)\n",
        "print(\"Standard Deviation:\", std_dev)\n",
        "print(\"Minimum Value:\", min_value)\n",
        "print(\"Maximum Value:\", max_value)"
      ],
      "metadata": {
        "colab": {
          "base_uri": "https://localhost:8080/"
        },
        "id": "zBzmnXQdTiKX",
        "outputId": "72523d30-fcc1-4e85-a5ea-2473af2ce862"
      },
      "execution_count": 10,
      "outputs": [
        {
          "output_type": "stream",
          "name": "stdout",
          "text": [
            "Mean: 0.0468612638477165\n",
            "Median: 0.03533809353482706\n",
            "Standard Deviation: 1.0026055810835623\n",
            "Minimum Value: -3.078835803871371\n",
            "Maximum Value: 3.2025388399817203\n"
          ]
        }
      ]
    },
    {
      "cell_type": "code",
      "source": [
        "# Reshape the array\n",
        "reshaped_data = np.reshape(data, (10, 50))"
      ],
      "metadata": {
        "id": "oeMBEkglTh1x"
      },
      "execution_count": 12,
      "outputs": []
    },
    {
      "cell_type": "code",
      "source": [
        "\n",
        "# Calculate column-wise statistics\n",
        "column_means = np.mean(reshaped_data, axis=0)\n",
        "column_medians = np.median(reshaped_data, axis=0)\n",
        "column_std_devs = np.std(reshaped_data, axis=0)\n",
        "print(\"Column-wise Means:\", column_means)\n",
        "print(\"Column-wise Medians:\", column_medians)\n",
        "print(\"Column-wise Standard Deviations:\", column_std_devs)"
      ],
      "metadata": {
        "colab": {
          "base_uri": "https://localhost:8080/"
        },
        "id": "onKwS0LGThy6",
        "outputId": "9301235e-0d62-436e-c012-ef96a25c1e2d"
      },
      "execution_count": 13,
      "outputs": [
        {
          "output_type": "stream",
          "name": "stdout",
          "text": [
            "Column-wise Means: [ 0.10323619  0.57200176 -0.3086106   0.31989376  0.33804684  0.47753267\n",
            "  0.13019631  0.34785949 -0.33008912 -0.24145138 -0.18802171  0.44962971\n",
            " -0.49952199  0.16333776  0.19833907  0.23971953  0.74337339 -0.26117912\n",
            "  0.44848757 -0.11938382 -0.06345928  0.18115555 -0.03221576 -0.46185577\n",
            "  0.07189877  0.04826889  0.21407574  0.09851144 -0.47570348 -0.2904283\n",
            "  0.30613799  0.62777467 -0.00162203  0.04073654  0.04811491 -0.43295792\n",
            " -0.13953048  0.1071696  -0.26676161 -0.02710194 -0.37963518 -0.08653815\n",
            "  0.02374885 -0.02757661  0.04143725  0.92455848  0.01162467 -0.17683474\n",
            " -0.34148877  0.21816354]\n",
            "Column-wise Medians: [ 0.07888661  0.28233515 -0.37511367  0.01446584  0.52736817  0.37233739\n",
            " -0.04853165  0.33172777 -0.46462918 -0.20566944 -0.1228978   0.30289457\n",
            " -0.54626902  0.1858799  -0.11173141 -0.02947786  0.79005237 -0.1069165\n",
            "  0.54930705 -0.03035266  0.02209752  0.05449846  0.1214984  -0.66975107\n",
            "  0.09351611  0.2462394   0.10532535 -0.04412396 -0.16602026 -0.46284813\n",
            "  0.14858018  0.59920788 -0.01347011  0.21986878  0.14205637 -0.60229667\n",
            " -0.10489238 -0.09103259 -0.47983747 -0.29314247 -0.56753541 -0.21738174\n",
            " -0.04828522 -0.03313148  0.12035602  0.82047184  0.09161108 -0.08247273\n",
            " -0.36936499 -0.2202559 ]\n",
            "Column-wise Standard Deviations: [0.48184243 0.55452792 0.77070635 0.81958902 0.79440907 0.67352416\n",
            " 0.6152066  0.83779022 1.10404274 0.90646582 0.91298462 0.89575255\n",
            " 1.13632284 1.43156711 1.07453352 1.28165515 0.70187628 0.68922915\n",
            " 0.94619301 0.75181051 1.2424217  0.57228379 0.65112309 1.06423224\n",
            " 1.48573666 0.72078871 1.11047473 1.14100381 0.71068445 1.29030562\n",
            " 1.08653652 0.45048879 0.94678629 0.85575663 0.70825317 0.81812676\n",
            " 1.25761515 0.81887591 1.12923771 1.24849122 0.67550987 1.45322044\n",
            " 0.59075747 0.74492312 0.70214036 1.26110744 0.72822195 0.73329848\n",
            " 0.95102583 1.12210908]\n"
          ]
        }
      ]
    },
    {
      "cell_type": "code",
      "source": [
        "# Calculate correlation matrix\n",
        "correlation_matrix = np.corrcoef(reshaped_data, rowvar=False)\n",
        "print(\"Correlation Matrix:\")\n",
        "print(correlation_matrix)"
      ],
      "metadata": {
        "colab": {
          "base_uri": "https://localhost:8080/"
        },
        "id": "-AcxOI0qThw3",
        "outputId": "9a19b016-36bd-4ab9-ff1e-bd66fd158e9c"
      },
      "execution_count": 14,
      "outputs": [
        {
          "output_type": "stream",
          "name": "stdout",
          "text": [
            "Correlation Matrix:\n",
            "[[ 1.          0.01786259 -0.27140347 ... -0.67970618  0.44694869\n",
            "   0.6492574 ]\n",
            " [ 0.01786259  1.         -0.09408279 ...  0.13588183  0.22210478\n",
            "  -0.39116622]\n",
            " [-0.27140347 -0.09408279  1.         ...  0.61353894 -0.077315\n",
            "   0.27329542]\n",
            " ...\n",
            " [-0.67970618  0.13588183  0.61353894 ...  1.          0.03396218\n",
            "  -0.55531538]\n",
            " [ 0.44694869  0.22210478 -0.077315   ...  0.03396218  1.\n",
            "   0.01813161]\n",
            " [ 0.6492574  -0.39116622  0.27329542 ... -0.55531538  0.01813161\n",
            "   1.        ]]\n"
          ]
        }
      ]
    },
    {
      "cell_type": "code",
      "source": [
        "# Perform element-wise operations\n",
        "squared_data = np.square(data)\n",
        "log_data = np.log(data)\n",
        "exp_data = np.exp(data)"
      ],
      "metadata": {
        "colab": {
          "base_uri": "https://localhost:8080/"
        },
        "id": "ohXg3CaJTht9",
        "outputId": "43fdd77a-2128-4023-8c5b-f6be94c08b59"
      },
      "execution_count": 15,
      "outputs": [
        {
          "output_type": "stream",
          "name": "stderr",
          "text": [
            "<ipython-input-15-dbd03b41403c>:3: RuntimeWarning: invalid value encountered in log\n",
            "  log_data = np.log(data)\n"
          ]
        }
      ]
    },
    {
      "cell_type": "code",
      "source": [
        "# Generate a random permutation of the data\n",
        "permutation = np.random.permutation(data)"
      ],
      "metadata": {
        "id": "7MFCKumuZDuL"
      },
      "execution_count": 16,
      "outputs": []
    },
    {
      "cell_type": "code",
      "source": [
        "\n",
        "# Calculate percentiles\n",
        "percentiles = np.percentile(data, [25, 50, 75])\n",
        "\n",
        "print(\"25th Percentile:\", percentiles[0])\n",
        "print(\"50th Percentile (Median):\", percentiles[1])\n",
        "print(\"75th Percentile:\", percentiles[2])"
      ],
      "metadata": {
        "colab": {
          "base_uri": "https://localhost:8080/"
        },
        "id": "NnGyRPbpZDac",
        "outputId": "868232d3-1f0a-42f8-bfc8-bbed6d8981a4"
      },
      "execution_count": 17,
      "outputs": [
        {
          "output_type": "stream",
          "name": "stdout",
          "text": [
            "25th Percentile: -0.6396625816145929\n",
            "50th Percentile (Median): 0.03533809353482706\n",
            "75th Percentile: 0.7235519658839181\n"
          ]
        }
      ]
    },
    {
      "cell_type": "code",
      "source": [],
      "metadata": {
        "id": "y_PigSoOab-z"
      },
      "execution_count": 17,
      "outputs": []
    }
  ]
}